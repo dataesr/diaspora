{
 "cells": [
  {
   "cell_type": "code",
   "execution_count": 16,
   "id": "a8f3e871",
   "metadata": {},
   "outputs": [],
   "source": [
    "import requests\n",
    "import math\n",
    "import pandas as pd"
   ]
  },
  {
   "cell_type": "code",
   "execution_count": 45,
   "id": "7f086680",
   "metadata": {},
   "outputs": [
    {
     "name": "stdout",
     "output_type": "stream",
     "text": [
      "4853\n",
      "2,3,4,5,6,7,8,9,10,11,12,13,14,15,16,17,18,19,20,21,22,23,24,25,"
     ]
    }
   ],
   "source": [
    "affiliation = 'lorraine'\n",
    "year1 = 2021\n",
    "year2 = 2021\n",
    "url = f'https://api.openalex.org/works?filter=raw_affiliation_string.search:\"{affiliation}\",publication_year:{year1}-{year2}&per_page=200'\n",
    "r = requests.get(url)\n",
    "results = r.json()\n",
    "nb_res = results['meta']['count']\n",
    "print(nb_res)\n",
    "nb_page = math.ceil(nb_res / 200)\n",
    "data = results['results']\n",
    "for page in range(2, nb_page + 1):\n",
    "    print(page, end=',')\n",
    "    r = requests.get(url+f'&page={page}')\n",
    "    data += r.json()['results']\n"
   ]
  },
  {
   "cell_type": "code",
   "execution_count": 46,
   "id": "e2f4d19a",
   "metadata": {},
   "outputs": [],
   "source": [
    "signatures = []\n",
    "for d in data:\n",
    "    elt = {}\n",
    "    for f in ['id', 'doi', 'title', 'publication_year']:\n",
    "        elt[f] = d[f]\n",
    "    for a in d['authorships']:\n",
    "        if affiliation in a.get('raw_affiliation_string', '').lower():\n",
    "            elt['signature'] = a['raw_affiliation_string']\n",
    "    signatures.append(elt)\n",
    "    "
   ]
  },
  {
   "cell_type": "code",
   "execution_count": 48,
   "id": "14718a92",
   "metadata": {},
   "outputs": [
    {
     "data": {
      "text/plain": [
       "Université de Lorraine                                                                                                                                                 226\n",
       "Institut Élie Cartan de Lorraine                                                                                                                                       135\n",
       "Centre d'études germaniques interculturelles de Lorraine                                                                                                                83\n",
       "Université de Lorraine#TAB#                                                                                                                                             81\n",
       "University of Lorraine                                                                                                                                                  45\n",
       "                                                                                                                                                                      ... \n",
       "UMR_S 1256, NGERE - Nutrition, Genetics, and Environmental Risk Exposure, INSERM, University of Lorraine, Nancy, France                                                  1\n",
       "LGIPM Lab, Lorraine Unversity, Metz, France                                                                                                                              1\n",
       "Centre de Recherches Pétrographiques et Géochimiques (CRPG), UMR 7358, CNRS, Université de Lorraine, Vandœuvre-lès-Nancy, France                                         1\n",
       "Laboratoire Réactions et Génie des Procédés, Université de Lorraine, Unité Mixte de Recharche CNRS/Ministère (UMR) 7274, LRGP, F-54500 Vandœuvre-lès-Nancy, France.      1\n",
       "Department of Mathematics Radboud University Nijmegen Nijmegen The Netherlands; LORIA Université de Lorraine Nancy France                                                1\n",
       "Name: signature, Length: 3106, dtype: int64"
      ]
     },
     "execution_count": 48,
     "metadata": {},
     "output_type": "execute_result"
    }
   ],
   "source": [
    "pd.DataFrame(signatures).signature.value_counts()"
   ]
  },
  {
   "cell_type": "code",
   "execution_count": null,
   "id": "b83312bf",
   "metadata": {},
   "outputs": [],
   "source": []
  }
 ],
 "metadata": {
  "kernelspec": {
   "display_name": "Python 3",
   "language": "python",
   "name": "python3"
  },
  "language_info": {
   "codemirror_mode": {
    "name": "ipython",
    "version": 3
   },
   "file_extension": ".py",
   "mimetype": "text/x-python",
   "name": "python",
   "nbconvert_exporter": "python",
   "pygments_lexer": "ipython3",
   "version": "3.9.1"
  }
 },
 "nbformat": 4,
 "nbformat_minor": 5
}
