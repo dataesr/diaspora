{
 "cells": [
  {
   "cell_type": "code",
   "execution_count": 1,
   "id": "12ea6f62",
   "metadata": {},
   "outputs": [],
   "source": [
    "import requests\n",
    "import math\n",
    "import pandas as pd"
   ]
  },
  {
   "cell_type": "markdown",
   "id": "4c435c3e",
   "metadata": {},
   "source": [
    "OpenAlex show a raw_affiliation_string field, scraped from the publication.\n",
    "This is then matched to an array of institutions (potentially with a ror, country).\n",
    "This notebook exhibits cases where the matched country are wrong.\n",
    "A correctf affiliation_country field would help in a lot of use cases."
   ]
  },
  {
   "cell_type": "markdown",
   "id": "a9408640",
   "metadata": {},
   "source": [
    "# Wrong country assigned "
   ]
  },
  {
   "cell_type": "code",
   "execution_count": null,
   "id": "8fa779be",
   "metadata": {},
   "outputs": [],
   "source": [
    "# Behavior and Perception, Nestlé Research Center, Lausanne, Switzerland \n",
    "# should be matched to CH, not NL"
   ]
  },
  {
   "cell_type": "code",
   "execution_count": 4,
   "id": "5000b0f9",
   "metadata": {},
   "outputs": [
    {
     "data": {
      "text/plain": [
       "{'author_position': 'middle',\n",
       " 'author': {'id': 'https://openalex.org/A2129380704',\n",
       "  'display_name': 'Nathalie Martin',\n",
       "  'orcid': 'https://orcid.org/0000-0002-2086-3773'},\n",
       " 'institutions': [{'id': 'https://openalex.org/I177526471',\n",
       "   'display_name': 'Nestlé',\n",
       "   'ror': None,\n",
       "   'country_code': 'NL',\n",
       "   'type': None}],\n",
       " 'raw_affiliation_string': 'Behavior and Perception, Nestlé Research Center, Lausanne, Switzerland'}"
      ]
     },
     "execution_count": 4,
     "metadata": {},
     "output_type": "execute_result"
    }
   ],
   "source": [
    "r0 = requests.get('https://api.openalex.org/works?filter=author.id:A2129380704').json()\n",
    "r0['results'][0]['authorships'][2]"
   ]
  },
  {
   "cell_type": "markdown",
   "id": "a78e92e9",
   "metadata": {},
   "source": [
    "# Raw affiliation string probably not explicit enough, should not be matched"
   ]
  },
  {
   "cell_type": "code",
   "execution_count": null,
   "id": "1f89c242",
   "metadata": {},
   "outputs": [],
   "source": [
    "# Ecole Normale Superieure - MNHN not BI (Burundi) should be FR"
   ]
  },
  {
   "cell_type": "code",
   "execution_count": 9,
   "id": "1c59a785",
   "metadata": {},
   "outputs": [
    {
     "data": {
      "text/plain": [
       "{'author_position': 'middle',\n",
       " 'author': {'id': 'https://openalex.org/A2751442825',\n",
       "  'display_name': 'Wei-An Wang',\n",
       "  'orcid': None},\n",
       " 'institutions': [{'id': 'https://openalex.org/I4210103330',\n",
       "   'display_name': 'École Normale Supérieure',\n",
       "   'ror': 'https://ror.org/01dp7jr64',\n",
       "   'country_code': 'BI',\n",
       "   'type': 'education'}],\n",
       " 'raw_affiliation_string': 'Ecole Normale Superieure - MNHN;'}"
      ]
     },
     "execution_count": 9,
     "metadata": {},
     "output_type": "execute_result"
    }
   ],
   "source": [
    "r1 = requests.get('https://api.openalex.org/works?filter=author.id:A2998579856').json()\n",
    "r1['results'][1]['authorships'][1]"
   ]
  },
  {
   "cell_type": "markdown",
   "id": "5028ad3b",
   "metadata": {},
   "source": [
    "# Wrong country assigned "
   ]
  },
  {
   "cell_type": "code",
   "execution_count": null,
   "id": "a4f64b89",
   "metadata": {},
   "outputs": [],
   "source": [
    "# Department of Mechanical Engineering, LPMM-CNRS, ISGMP, University of Metz, Ile du Saulcy, 57045, Metz Cedex1, France\n",
    "# not DE but FR"
   ]
  },
  {
   "cell_type": "code",
   "execution_count": 12,
   "id": "f9afc953",
   "metadata": {},
   "outputs": [
    {
     "data": {
      "text/plain": [
       "{'author_position': 'last',\n",
       " 'author': {'id': 'https://openalex.org/A2293349703',\n",
       "  'display_name': 'Mohammed Cherkaoui',\n",
       "  'orcid': None},\n",
       " 'institutions': [{'id': 'https://openalex.org/I184895075',\n",
       "   'display_name': 'Metz',\n",
       "   'ror': None,\n",
       "   'country_code': 'DE',\n",
       "   'type': None}],\n",
       " 'raw_affiliation_string': 'Department of Mechanical Engineering, LPMM-CNRS, ISGMP, University of Metz, Ile du Saulcy, 57045, Metz Cedex1, France'}"
      ]
     },
     "execution_count": 12,
     "metadata": {},
     "output_type": "execute_result"
    }
   ],
   "source": [
    "r2 = requests.get('https://api.openalex.org/works?filter=author.id:A2293349703').json()\n",
    "r2['results'][0]['authorships'][2]"
   ]
  },
  {
   "cell_type": "markdown",
   "id": "3d667c08",
   "metadata": {},
   "source": [
    "# Not country is found when the raw affiliation string has an explicit address"
   ]
  },
  {
   "cell_type": "code",
   "execution_count": 35,
   "id": "0d80a494",
   "metadata": {},
   "outputs": [
    {
     "name": "stdout",
     "output_type": "stream",
     "text": [
      "https://openalex.org/W2038662379\n"
     ]
    },
    {
     "data": {
      "text/plain": [
       "{'author_position': 'middle',\n",
       " 'author': {'id': 'https://openalex.org/A2135796921',\n",
       "  'display_name': 'Claire Laurent',\n",
       "  'orcid': None},\n",
       " 'institutions': [{'id': None,\n",
       "   'display_name': 'Laboratoire de Sciences Animales, INPL-UHP-INRA, B.P. 172, 54505 Vandoeuvre lès Nancy Cedex, France, and MicroPolluants Technologie SA, ZI du Gassion, B.P. 80293, F57108 Thionville Cedex, France',\n",
       "   'ror': None,\n",
       "   'country_code': None,\n",
       "   'type': None}],\n",
       " 'raw_affiliation_string': 'Laboratoire de Sciences Animales, INPL-UHP-INRA, B.P. 172, 54505 Vandoeuvre lès Nancy Cedex, France, and MicroPolluants Technologie SA, ZI du Gassion, B.P. 80293, F57108 Thionville Cedex, France'}"
      ]
     },
     "execution_count": 35,
     "metadata": {},
     "output_type": "execute_result"
    }
   ],
   "source": [
    "r3 = requests.get('https://api.openalex.org/works?filter=author.id:A2135796921').json()\n",
    "print(r3['results'][0]['id'])\n",
    "r3['results'][0]['authorships'][3]"
   ]
  },
  {
   "cell_type": "markdown",
   "id": "bf4fd638",
   "metadata": {},
   "source": [
    "# CNRS (marroccan instead of french)"
   ]
  },
  {
   "cell_type": "code",
   "execution_count": 34,
   "id": "4ea3f6ca",
   "metadata": {},
   "outputs": [
    {
     "name": "stdout",
     "output_type": "stream",
     "text": [
      "https://openalex.org/W3112987220\n"
     ]
    },
    {
     "data": {
      "text/plain": [
       "{'author_position': 'first',\n",
       " 'author': {'id': 'https://openalex.org/A2205006865',\n",
       "  'display_name': 'Aminah Mohammad-Arif',\n",
       "  'orcid': None},\n",
       " 'institutions': [{'id': 'https://openalex.org/I4210089144',\n",
       "   'display_name': 'Centre National de la Recherche Scientifique',\n",
       "   'ror': 'https://ror.org/00675rp98',\n",
       "   'country_code': 'MA',\n",
       "   'type': 'government'}],\n",
       " 'raw_affiliation_string': 'Centre National de la Recherche Scientifique;'}"
      ]
     },
     "execution_count": 34,
     "metadata": {},
     "output_type": "execute_result"
    }
   ],
   "source": [
    "r4 = requests.get('https://api.openalex.org/works?filter=author.id:A2205006865').json()\n",
    "print(r4['results'][12]['id'])\n",
    "r4['results'][12]['authorships'][0]"
   ]
  },
  {
   "cell_type": "code",
   "execution_count": null,
   "id": "62a71217",
   "metadata": {},
   "outputs": [],
   "source": []
  }
 ],
 "metadata": {
  "kernelspec": {
   "display_name": "Python 3",
   "language": "python",
   "name": "python3"
  },
  "language_info": {
   "codemirror_mode": {
    "name": "ipython",
    "version": 3
   },
   "file_extension": ".py",
   "mimetype": "text/x-python",
   "name": "python",
   "nbconvert_exporter": "python",
   "pygments_lexer": "ipython3",
   "version": "3.9.1"
  }
 },
 "nbformat": 4,
 "nbformat_minor": 5
}
